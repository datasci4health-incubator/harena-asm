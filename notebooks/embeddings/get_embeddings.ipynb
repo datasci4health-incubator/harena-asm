{
 "cells": [
  {
   "cell_type": "code",
   "execution_count": 1,
   "metadata": {},
   "outputs": [],
   "source": [
    "from transformers import BertTokenizer, BertModel\n",
    "import torch\n",
    "\n",
    "BERT_MODEL='bert-base-cased'\n",
    "# BERT_MODEL='dmis-lab/biobert-base-cased-v1.1'\n",
    "\n",
    "tokenizer = BertTokenizer.from_pretrained(BERT_MODEL, do_lower_case=False)\n",
    "model = BertModel.from_pretrained(BERT_MODEL, output_hidden_states = True)"
   ]
  },
  {
   "cell_type": "code",
   "execution_count": 2,
   "metadata": {},
   "outputs": [],
   "source": [
    "def get_hidden_states(model,tokenizer,marked_text):\n",
    "    tokenized_text = tokenizer.tokenize(marked_text)\n",
    "    indexed_tokens = tokenizer.convert_tokens_to_ids(tokenized_text)\n",
    "    \n",
    "    segments_ids = [1] * len(tokenized_text)\n",
    "\n",
    "    tokens_tensor = torch.tensor([indexed_tokens])\n",
    "    segments_tensors = torch.tensor([segments_ids])\n",
    "    \n",
    "    with torch.no_grad():\n",
    "        outputs = model(tokens_tensor, segments_tensors)\n",
    "        hidden_states = outputs[2]\n",
    "        return hidden_states"
   ]
  },
  {
   "cell_type": "code",
   "execution_count": 3,
   "metadata": {},
   "outputs": [],
   "source": [
    "def get_embeddings(text):\n",
    "    marked_text = \"[CLS] \" + text + \" [SEP]\"\n",
    "    \n",
    "    hidden_states = get_hidden_states(model, tokenizer, marked_text)\n",
    "    token_embeddings = torch.stack(hidden_states, dim=0)\n",
    "    token_embeddings = torch.squeeze(token_embeddings, dim=1)\n",
    "    token_embeddings = token_embeddings.permute(1,0,2)\n",
    "    \n",
    "    return token_embeddings"
   ]
  },
  {
   "cell_type": "code",
   "execution_count": 4,
   "metadata": {},
   "outputs": [],
   "source": [
    "input_sentence = \"A 58-year-old African-American woman presents to the ER with episodic pressing/burning anterior chest pain that began two days earlier for the first time in her life. The pain started while she was walking, radiates to the back, and is accompanied by nausea, diaphoresis and mild dyspnea, but is not increased on inspiration. The latest episode of pain ended half an hour prior to her arrival. She is known to have hypertension and obesity. She denies smoking, diabetes, hypercholesterolemia, or a family history of heart disease. She currently takes no medications. Physical examination is normal. The EKG shows nonspecific changes.\"\n",
    "tokenized_input = tokenizer.tokenize(input_sentence)"
   ]
  },
  {
   "cell_type": "code",
   "execution_count": 5,
   "metadata": {},
   "outputs": [],
   "source": [
    "first_embeddings = []\n",
    "last_embeddings = []\n",
    "\n",
    "with open(\"embeddings/label.tsv\", \"w\") as labels_file:\n",
    "    for token in tokenized_input:\n",
    "        if (not token.startswith(\"##\")):\n",
    "            marked_text = \"[CLS] \" + token + \" [SEP]\"\n",
    "\n",
    "            print(token, file=labels_file)\n",
    "\n",
    "            token_embeddings = get_embeddings(marked_text)\n",
    "        \n",
    "            first_embedding_layer = token_embeddings[1][1]\n",
    "            last_embedding_layer = token_embeddings[1][12]\n",
    "\n",
    "            tsv_rows = ''\n",
    "            for e in last_embedding_layer:\n",
    "                tsv_rows += str(e.item()) + '\\t'\n",
    "            last_embeddings.append(tsv_rows)\n",
    "            \n",
    "            tsv_rows = ''\n",
    "            for e in first_embedding_layer:\n",
    "                tsv_rows += str(e.item()) + '\\t'\n",
    "            first_embeddings.append(tsv_rows)"
   ]
  },
  {
   "cell_type": "code",
   "execution_count": 7,
   "metadata": {},
   "outputs": [],
   "source": [
    "with open(\"embeddings/bert/first_embedding.tsv\", \"w\") as f:\n",
    "    for e in first_embeddings:\n",
    "        print (e, file=f)\n",
    "        \n",
    "with open(\"embeddings/bert/last_embedding.tsv\", \"w\") as f:\n",
    "    for e in last_embeddings:\n",
    "        print (e, file=f)"
   ]
  },
  {
   "cell_type": "code",
   "execution_count": null,
   "metadata": {},
   "outputs": [],
   "source": []
  }
 ],
 "metadata": {
  "kernelspec": {
   "display_name": "Python 3",
   "language": "python",
   "name": "python3"
  },
  "language_info": {
   "codemirror_mode": {
    "name": "ipython",
    "version": 3
   },
   "file_extension": ".py",
   "mimetype": "text/x-python",
   "name": "python",
   "nbconvert_exporter": "python",
   "pygments_lexer": "ipython3",
   "version": "3.7.8"
  }
 },
 "nbformat": 4,
 "nbformat_minor": 4
}
