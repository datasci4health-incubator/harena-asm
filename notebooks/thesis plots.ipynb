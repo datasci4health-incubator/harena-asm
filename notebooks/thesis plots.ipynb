{
 "cells": [
  {
   "cell_type": "code",
   "execution_count": 23,
   "metadata": {},
   "outputs": [],
   "source": [
    "import os\n",
    "\n",
    "def save_fig(fig_id, tight_layout=True):\n",
    "    path = os.path.join(\"images\", fig_id + \".png\")\n",
    "    print(\"Saving figure\", fig_id)\n",
    "    if tight_layout:\n",
    "        plt.tight_layout()\n",
    "    plt.savefig(path, format='png', dpi=300)"
   ]
  },
  {
   "cell_type": "markdown",
   "metadata": {},
   "source": [
    "# Perceptron"
   ]
  },
  {
   "cell_type": "code",
   "execution_count": null,
   "metadata": {
    "scrolled": false
   },
   "outputs": [],
   "source": [
    "import matplotlib.pyplot as plt\n",
    "%matplotlib inline\n",
    "\n",
    "import seaborn as sns\n",
    "\n",
    "# Use plot styling from seaborn.\n",
    "# sns.set(style='darkgrid')\n",
    "\n",
    "# Increase the plot size and font size.\n",
    "# sns.set(font_scale=1.5)\n",
    "# plt.rcParams[\"figure.figsize\"] = (12,6)\n",
    "\n",
    "plt.plot([0.2,0.3], 'b-o', label=\"separating line\")\n",
    "plt.scatter(0, 0)\n",
    "plt.scatter(0, 1)\n",
    "plt.scatter(1, 0)\n",
    "\n",
    "plt.text(0,0,'decent but dull')# Label the plot.\n",
    "plt.text(0,1,'fun and nimble')# Label the plot.\n",
    "plt.text(1,0,'too bad')# Label the plot.\n",
    "\n",
    "plt.title(\"Separating curve\")\n",
    "plt.xlabel(\"bad\")\n",
    "plt.ylabel(\"fun\")\n",
    "plt.legend()\n",
    "\n",
    "plt.show()\n"
   ]
  },
  {
   "cell_type": "markdown",
   "metadata": {},
   "source": [
    "# Linearly Separable Classes"
   ]
  },
  {
   "cell_type": "code",
   "execution_count": 29,
   "metadata": {},
   "outputs": [
    {
     "name": "stdout",
     "output_type": "stream",
     "text": [
      "100 100\n",
      "[1.4 0.2]\n"
     ]
    }
   ],
   "source": [
    "import numpy as np\n",
    "import matplotlib.pyplot as plt\n",
    "import pandas as pd\n",
    "\n",
    "data = pd.read_csv('data/linearbly_separable_clusters.csv', header=None)\n",
    "X = data[[0,1]].values\n",
    "y = data[2]\n",
    "\n",
    "print(len(X),len(y))\n",
    "print(X[0])"
   ]
  },
  {
   "cell_type": "code",
   "execution_count": 26,
   "metadata": {},
   "outputs": [
    {
     "data": {
      "text/plain": [
       "(-0.3930114751389817, array([0.25021329, 0.22538328]))"
      ]
     },
     "execution_count": 26,
     "metadata": {},
     "output_type": "execute_result"
    }
   ],
   "source": [
    "lin_reg = LinearRegression()\n",
    "lin_reg.fit(X, y)\n",
    "lin_reg.intercept_, lin_reg.coef_"
   ]
  },
  {
   "cell_type": "markdown",
   "metadata": {},
   "source": [
    "## Curve hand-crafted"
   ]
  },
  {
   "cell_type": "code",
   "execution_count": 107,
   "metadata": {},
   "outputs": [
    {
     "name": "stdout",
     "output_type": "stream",
     "text": [
      "Saving figure linearly_separable_classes\n"
     ]
    },
    {
     "data": {
      "image/png": "[encoded data removed]",
      "text/plain": [
       "<Figure size 360x216 with 1 Axes>"
      ]
     },
     "metadata": {},
     "output_type": "display_data"
    }
   ],
   "source": [
    "x0 = np.linspace(0, 7, 200)\n",
    "# pred_1 = 5*x0 - 20\n",
    "# pred_2 = x0 - 1.9\n",
    "pred_3 = 0.1 * x0 + 0.5\n",
    "\n",
    "plt.figure(figsize=(5,3))\n",
    "\n",
    "# plt.subplot(121)\n",
    "# plt.plot(x0, pred_1, \"g--\", linewidth=2)\n",
    "# plt.plot(x0, pred_2, \"m-\", linewidth=2)\n",
    "plt.plot(x0, pred_3, \"r-\", linewidth=2)\n",
    "\n",
    "plt.plot(X[:, 0][y==1], X[:, 1][y==1], \"ks\", label=\"Positive\")\n",
    "plt.plot(X[:, 0][y==0], X[:, 1][y==0], \"ko\", label=\"Negative\")\n",
    "plt.xlabel(\"Feature 1\", fontsize=14)\n",
    "plt.ylabel(\"Feature 2\", fontsize=14)\n",
    "plt.legend(loc=\"upper left\", fontsize=14)\n",
    "# plt.axis([0, 5.5, 0, 2])\n",
    "plt.xticks([])\n",
    "plt.yticks([])\n",
    "\n",
    "save_fig(\"linearly_separable_classes\")\n",
    "plt.show()"
   ]
  },
  {
   "cell_type": "markdown",
   "metadata": {},
   "source": [
    "## trying to draw curve from the linear regression parameters"
   ]
  },
  {
   "cell_type": "code",
   "execution_count": 221,
   "metadata": {},
   "outputs": [
    {
     "name": "stdout",
     "output_type": "stream",
     "text": [
      "x [[0. 1.]\n",
      " [3. 1.]] y [-0.16762819  0.58301167]\n",
      "[0. 3.] [-0.39301148  0.35762839]\n"
     ]
    },
    {
     "data": {
      "image/png": "[encoded data removed]",
      "text/plain": [
       "<Figure size 360x216 with 1 Axes>"
      ]
     },
     "metadata": {},
     "output_type": "display_data"
    }
   ],
   "source": [
    "# Dois novo pontos\n",
    "xx = np.ndarray(shape=(2,2))\n",
    "xx[0,0]=0\n",
    "xx[0,1]=1\n",
    "xx[1,0]=3\n",
    "xx[1,1]=1\n",
    "\n",
    "# predicted y for x_test\n",
    "yy = lin_reg.predict(xx)\n",
    "# print('xx',xx)\n",
    "print('x',xx[:],'y', yy[:])\n",
    "\n",
    "x0 = np.linspace(0, 7, 200)\n",
    "\n",
    "# pred_1 = 5*x0 - 20\n",
    "# pred_2 = x0 - 1.9\n",
    "pred_3 = 0.25021329 * x0 + -0.3930114751389817\n",
    "\n",
    "novos_pred = 0.25021329 * xx[:,0] + -0.3930114751389817\n",
    "print(xx[:,0], novos_pred)\n",
    "\n",
    "plt.figure(figsize=(5,3))\n",
    "\n",
    "plt.plot(xx[:,0], xx[:,1], \"ys\", label=\"a\")\n",
    "# plt.plot(xx[:][0], x_test[1][1], \"bs\", label=\"b\")\n",
    "\n",
    "plt.plot(X[:, 0][y==1], X[:, 1][y==1], \"ks\", label=\"Positive\")\n",
    "plt.plot(X[:, 0][y==0], X[:, 1][y==0], \"ko\", label=\"Negative\")\n",
    "\n",
    "plt.plot(x0, pred_3, \"r-\", linewidth=5)\n",
    "plt.plot(xx[:,0], novos_pred, \"y-\", linewidth=2)\n",
    "\n",
    "\n",
    "plt.xlabel(\"Feature 1\", fontsize=14)\n",
    "plt.ylabel(\"Feature 2\", fontsize=14)\n",
    "# plt.legend(loc=\"upper left\", fontsize=14)\n",
    "# plt.axis([0, 5.5, 0, 2])\n",
    "plt.xticks([])\n",
    "plt.yticks([])\n",
    "\n",
    "# save_fig(\"linearly_separable_classes\")\n",
    "plt.show()"
   ]
  },
  {
   "cell_type": "code",
   "execution_count": null,
   "metadata": {},
   "outputs": [],
   "source": [
    "from sklearn.preprocessing import PolynomialFeatures\n",
    "\n",
    "poly_features = PolynomialFeatures(degree=2, include_bias=False)\n",
    "X_poly = poly_features.fit_transform(X)\n",
    "print(X[0])\n",
    "print(X_poly[0])\n",
    "\n"
   ]
  },
  {
   "cell_type": "code",
   "execution_count": null,
   "metadata": {},
   "outputs": [],
   "source": [
    "x_t = []\n",
    "for i in X:\n",
    "    x_t.append(i[0])"
   ]
  },
  {
   "cell_type": "code",
   "execution_count": null,
   "metadata": {},
   "outputs": [],
   "source": [
    "lin_reg = LinearRegression()\n",
    "lin_reg.fit(X, y)\n",
    "y_t = lin_reg.predict(X)\n",
    "# print(y_t)\n",
    "\n",
    "plt.plot(x_t, y_t, \"r-\", linewidth=2)\n",
    "plt.xlabel(\"Feature 1\", fontsize=14)\n",
    "plt.ylabel(\"Feature 2\", fontsize=14)\n",
    "plt.legend(loc=\"upper left\", fontsize=14)\n",
    "# plt.axis([0, 5.5, 0, 2])\n",
    "plt.xticks([])\n",
    "plt.yticks([])\n",
    "\n",
    "# save_fig(\"linearly_separable_classes\")\n",
    "plt.show()"
   ]
  },
  {
   "cell_type": "code",
   "execution_count": null,
   "metadata": {},
   "outputs": [],
   "source": [
    "import operator\n",
    "\n",
    "import numpy as np\n",
    "import matplotlib.pyplot as plt\n",
    "\n",
    "from sklearn.linear_model import LinearRegression\n",
    "from sklearn.metrics import mean_squared_error, r2_score\n",
    "from sklearn.preprocessing import PolynomialFeatures\n",
    "\n",
    "np.random.seed(0)\n",
    "x = 2 - 3 * np.random.normal(0, 1, 20)\n",
    "y = x - 2 * (x ** 2) + 0.5 * (x ** 3) + np.random.normal(-3, 3, 20)\n",
    "\n",
    "# transforming the data to include another axis\n",
    "x = x[:, np.newaxis]\n",
    "y = y[:, np.newaxis]\n",
    "\n",
    "polynomial_features= PolynomialFeatures(degree=2)\n",
    "x_poly = polynomial_features.fit_transform(x)\n",
    "\n",
    "model = LinearRegression()\n",
    "model.fit(x_poly, y)\n",
    "y_poly_pred = model.predict(x_poly)\n",
    "\n",
    "rmse = np.sqrt(mean_squared_error(y,y_poly_pred))\n",
    "r2 = r2_score(y,y_poly_pred)\n",
    "print(rmse)\n",
    "print(r2)\n",
    "\n",
    "plt.scatter(x, y, s=10)\n",
    "# sort the values of x before line plot\n",
    "sort_axis = operator.itemgetter(0)\n",
    "sorted_zip = sorted(zip(x,y_poly_pred), key=sort_axis)\n",
    "x, y_poly_pred = zip(*sorted_zip)\n",
    "plt.plot(x, y_poly_pred, color='m')\n",
    "plt.show()"
   ]
  },
  {
   "cell_type": "code",
   "execution_count": 22,
   "metadata": {},
   "outputs": [
    {
     "name": "stderr",
     "output_type": "stream",
     "text": [
      "No handles with labels found to put in legend.\n"
     ]
    },
    {
     "name": "stdout",
     "output_type": "stream",
     "text": [
      "-0.46206600489669447 [0.33626914]\n"
     ]
    },
    {
     "data": {
      "image/png": "[encoded data removed]",
      "text/plain": [
       "<Figure size 432x288 with 1 Axes>"
      ]
     },
     "metadata": {},
     "output_type": "display_data"
    }
   ],
   "source": [
    "from sklearn.linear_model import LinearRegression\n",
    "lin_reg = LinearRegression()\n",
    "\n",
    "# print(X)\n",
    "# xt = np.zeros([100,1])\n",
    "# print(xt)\n",
    "\n",
    "i=0\n",
    "for x in X:\n",
    "    xt[i] = x[0]\n",
    "    i=i+1\n",
    "    \n",
    "lin_reg.fit(xt,y)\n",
    "print(lin_reg.intercept_, lin_reg.coef_)\n",
    "yt = lin_reg.predict(xt)\n",
    "\n",
    "plt.plot(xt, y, \"r-\", linewidth=2)\n",
    "plt.xlabel(\"Feature 1\", fontsize=14)\n",
    "plt.ylabel(\"Feature 2\", fontsize=14)\n",
    "plt.legend(loc=\"upper left\", fontsize=14)\n",
    "# plt.axis([0, 5.5, 0, 2])\n",
    "plt.xticks([])\n",
    "plt.yticks([])\n",
    "\n",
    "# save_fig(\"linearly_separable_classes\")\n",
    "plt.show()"
   ]
  },
  {
   "cell_type": "code",
   "execution_count": 10,
   "metadata": {},
   "outputs": [
    {
     "name": "stdout",
     "output_type": "stream",
     "text": [
      "[1.4 0.2]\n"
     ]
    }
   ],
   "source": [
    "print(X[0])"
   ]
  },
  {
   "cell_type": "code",
   "execution_count": null,
   "metadata": {},
   "outputs": [],
   "source": []
  }
 ],
 "metadata": {
  "kernelspec": {
   "display_name": "Python 3",
   "language": "python",
   "name": "python3"
  },
  "language_info": {
   "codemirror_mode": {
    "name": "ipython",
    "version": 3
   },
   "file_extension": ".py",
   "mimetype": "text/x-python",
   "name": "python",
   "nbconvert_exporter": "python",
   "pygments_lexer": "ipython3",
   "version": "3.7.6"
  }
 },
 "nbformat": 4,
 "nbformat_minor": 4
}
