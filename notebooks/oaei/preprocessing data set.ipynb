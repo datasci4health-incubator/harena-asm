{
 "cells": [
  {
   "cell_type": "code",
   "execution_count": 1,
   "metadata": {},
   "outputs": [
    {
     "name": "stdout",
     "output_type": "stream",
     "text": [
      "Requirement already satisfied: xmltodict in /opt/conda/lib/python3.7/site-packages (0.12.0)\n",
      "Note: you may need to restart the kernel to use updated packages.\n"
     ]
    }
   ],
   "source": [
    "pip install xmltodict"
   ]
  },
  {
   "cell_type": "markdown",
   "metadata": {},
   "source": [
    "# Transform reference alignment\n",
    "## from rdf into csv format"
   ]
  },
  {
   "cell_type": "code",
   "execution_count": 2,
   "metadata": {},
   "outputs": [],
   "source": [
    "import xmltodict\n",
    "\n",
    "with open('../../datasets/anatomy-dataset/anatomy-dataset/reference.rdf') as fd:\n",
    "    doc = xmltodict.parse(fd.read())"
   ]
  },
  {
   "cell_type": "code",
   "execution_count": 3,
   "metadata": {},
   "outputs": [
    {
     "name": "stdout",
     "output_type": "stream",
     "text": [
      "OrderedDict([('@rdf:resource', 'http://mouse.owl#MA_0002401')])\n",
      "OrderedDict([('@rdf:resource', 'http://human.owl#NCI_C52561')])\n",
      "OrderedDict([('@rdf:datatype', 'xsd:float'), ('#text', '1.0')])\n"
     ]
    }
   ],
   "source": [
    "print(doc['rdf:RDF']['Alignment']['map'][0]['Cell']['entity1'])\n",
    "print(doc['rdf:RDF']['Alignment']['map'][0]['Cell']['entity2'])\n",
    "print(doc['rdf:RDF']['Alignment']['map'][0]['Cell']['measure'])"
   ]
  },
  {
   "cell_type": "code",
   "execution_count": 4,
   "metadata": {},
   "outputs": [],
   "source": [
    "cells = [i['Cell'] for i in doc['rdf:RDF']['Alignment']['map']]"
   ]
  },
  {
   "cell_type": "code",
   "execution_count": 5,
   "metadata": {},
   "outputs": [],
   "source": [
    "concept_pairs = []\n",
    "for c in cells:\n",
    "    concept_pairs.append({ 'entity1': c['entity1']['@rdf:resource'], 'entity2': c['entity2']['@rdf:resource'], 'measure': c['measure']['#text']})"
   ]
  },
  {
   "cell_type": "code",
   "execution_count": 6,
   "metadata": {},
   "outputs": [],
   "source": [
    "import pandas as pd\n",
    "\n",
    "df = pd.DataFrame(concept_pairs)\n",
    "df.to_csv('aligned_pairs.csv')"
   ]
  },
  {
   "cell_type": "markdown",
   "metadata": {},
   "source": [
    "# Transform mouse.owl into csv\n"
   ]
  },
  {
   "cell_type": "code",
   "execution_count": 7,
   "metadata": {},
   "outputs": [],
   "source": [
    "with open('../../datasets/anatomy-dataset/anatomy-dataset/mouse.owl') as fd:\n",
    "    doc = xmltodict.parse(fd.read())"
   ]
  },
  {
   "cell_type": "code",
   "execution_count": 8,
   "metadata": {},
   "outputs": [
    {
     "name": "stdout",
     "output_type": "stream",
     "text": [
      "http://mouse.owl#MA_0000001\n",
      "mouse anatomy\n"
     ]
    }
   ],
   "source": [
    "print(doc['rdf:RDF']['owl:Class'][0]['@rdf:about'])\n",
    "print(doc['rdf:RDF']['owl:Class'][0]['rdfs:label']['#text'])"
   ]
  },
  {
   "cell_type": "code",
   "execution_count": 9,
   "metadata": {},
   "outputs": [],
   "source": [
    "mouse_classes = [c for c in doc['rdf:RDF']['owl:Class']]"
   ]
  },
  {
   "cell_type": "code",
   "execution_count": 10,
   "metadata": {},
   "outputs": [],
   "source": [
    "mouse_concepts = []\n",
    "for c in mouse_classes:\n",
    "    if 'rdfs:label' in c:\n",
    "        mouse_concepts.append({ 'uri': c['@rdf:about'], 'label': c['rdfs:label']['#text'] } )"
   ]
  },
  {
   "cell_type": "code",
   "execution_count": 11,
   "metadata": {},
   "outputs": [],
   "source": [
    "df = pd.DataFrame(mouse_concepts)\n",
    "df.to_csv('mouse_concepts.csv')"
   ]
  },
  {
   "cell_type": "markdown",
   "metadata": {},
   "source": [
    "# Transform human.owl into csv"
   ]
  },
  {
   "cell_type": "code",
   "execution_count": 12,
   "metadata": {},
   "outputs": [],
   "source": [
    "with open('../../datasets/anatomy-dataset/anatomy-dataset/human.owl') as fd:\n",
    "    doc = xmltodict.parse(fd.read())"
   ]
  },
  {
   "cell_type": "code",
   "execution_count": 13,
   "metadata": {},
   "outputs": [
    {
     "name": "stdout",
     "output_type": "stream",
     "text": [
      "http://human.owl#NCI_C12219\n",
      "Anatomic_Structure_System_or_Substance\n"
     ]
    }
   ],
   "source": [
    "print(doc['rdf:RDF']['owl:Class'][0]['@rdf:about'])\n",
    "print(doc['rdf:RDF']['owl:Class'][0]['rdfs:label']['#text'])"
   ]
  },
  {
   "cell_type": "code",
   "execution_count": 14,
   "metadata": {},
   "outputs": [],
   "source": [
    "human_classes = [c for c in doc['rdf:RDF']['owl:Class']]"
   ]
  },
  {
   "cell_type": "code",
   "execution_count": 15,
   "metadata": {},
   "outputs": [],
   "source": [
    "human_concepts = []\n",
    "for c in human_classes:\n",
    "    if 'rdfs:label' in c:\n",
    "        human_concepts.append({ 'uri': c['@rdf:about'], 'label': c['rdfs:label']['#text'] } )"
   ]
  },
  {
   "cell_type": "code",
   "execution_count": 16,
   "metadata": {},
   "outputs": [],
   "source": [
    "df = pd.DataFrame(human_concepts)\n",
    "df.to_csv('human_concepts.csv')"
   ]
  },
  {
   "cell_type": "code",
   "execution_count": null,
   "metadata": {},
   "outputs": [],
   "source": []
  }
 ],
 "metadata": {
  "kernelspec": {
   "display_name": "Python 3",
   "language": "python",
   "name": "python3"
  },
  "language_info": {
   "codemirror_mode": {
    "name": "ipython",
    "version": 3
   },
   "file_extension": ".py",
   "mimetype": "text/x-python",
   "name": "python",
   "nbconvert_exporter": "python",
   "pygments_lexer": "ipython3",
   "version": "3.7.6"
  }
 },
 "nbformat": 4,
 "nbformat_minor": 4
}
